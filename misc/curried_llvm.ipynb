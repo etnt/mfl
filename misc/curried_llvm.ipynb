{
 "cells": [
  {
   "cell_type": "code",
   "execution_count": 2,
   "metadata": {},
   "outputs": [],
   "source": [
    "import os\n",
    "import sys\n",
    "from llvmlite import ir\n",
    "\n",
    "# Get the directory of the current file\n",
    "current_dir = os.getcwd()\n",
    "\n",
    "# add ../mfl to the Python path\n",
    "sys.path.insert(0, os.path.join(current_dir, '../mfl'))\n",
    "\n",
    "from mfl_ast import (\n",
    "    Var, Int, Function, BinOp, \n",
    ")"
   ]
  },
  {
   "cell_type": "code",
   "execution_count": null,
   "metadata": {},
   "outputs": [],
   "source": [
    "# Create the LLVM module and int type\n",
    "module = ir.Module(name=\"curried_functions\")\n",
    "int_type = ir.IntType(32)"
   ]
  },
  {
   "cell_type": "code",
   "execution_count": null,
   "metadata": {},
   "outputs": [],
   "source": [
    "def create_curried_function(func_node, lambda_state=None):\n",
    "    \"\"\"\n",
    "    Recursively creates LLVM functions from nested Function nodes in the AST.\n",
    "    - func_node: The AST node representing a function.\n",
    "    - lambda_state: The LLVM IR struct or pointer to hold captured arguments.\n",
    "    \"\"\"\n",
    "\n",
    "    # Check if this function node has a body that's also a function (curried)\n",
    "    if isinstance(func_node.body, Function):\n",
    "        # This is a curried function, so we create a function that returns\n",
    "        # a pointer to another function.\n",
    "        \n",
    "        # Define the function type to return a pointer to the next function\n",
    "        func_type = ir.FunctionType(ir.IntType(32).as_pointer(), [ir.IntType(32), lambda_state_type])\n",
    "        func = ir.Function(module, func_type, name=\"curried_func_level\")\n",
    "\n",
    "        # Entry block for current function\n",
    "        entry_block = func.append_basic_block(name=\"entry\")\n",
    "        builder = ir.IRBuilder(entry_block)\n",
    "\n",
    "        # Load the state, capture the current argument\n",
    "        x = func.args[0]  # Argument for this level\n",
    "        lambda_state_ptr = func.args[1]\n",
    "        \n",
    "        # Store 'x' into %lambda_state\n",
    "        x_ptr = builder.gep(lambda_state_ptr, [int_type(0), int_type(func_node.arg_index)], name=f\"x_ptr_{func_node.arg_name}\")\n",
    "        builder.store(x, x_ptr)\n",
    "        \n",
    "        # Recursively create the next curried function\n",
    "        next_func = create_curried_function(func_node.body, lambda_state_ptr)\n",
    "\n",
    "        # Return pointer to the next function\n",
    "        builder.ret(next_func)\n",
    "\n",
    "        return func\n",
    "\n",
    "    else:\n",
    "        # This is the innermost function, so we perform the actual computation\n",
    "        # using the captured arguments in lambda_state.\n",
    "        \n",
    "        # Define the function type to return an int\n",
    "        func_type = ir.FunctionType(ir.IntType(32), [ir.IntType(32), lambda_state_type])\n",
    "        func = ir.Function(module, func_type, name=\"innermost_func\")\n",
    "\n",
    "        # Entry block\n",
    "        entry_block = func.append_basic_block(name=\"entry\")\n",
    "        builder = ir.IRBuilder(entry_block)\n",
    "\n",
    "        # Load 'x', 'y', 'z' from %lambda_state to compute ((x + y) + z)\n",
    "        x = builder.load(builder.gep(lambda_state_ptr, [int_type(0), int_type(0)]), name=\"x\")\n",
    "        y = builder.load(builder.gep(lambda_state_ptr, [int_type(0), int_type(1)]), name=\"y\")\n",
    "        z = builder.load(builder.gep(lambda_state_ptr, [int_type(0), int_type(2)]), name=\"z\")\n",
    "\n",
    "        # Perform the computation ((x + y) + z)\n",
    "        sum_xy = builder.add(x, y, name=\"sum_xy\")\n",
    "        sum_xyz = builder.add(sum_xy, z, name=\"sum_xyz\")\n",
    "\n",
    "        # Return the result\n",
    "        builder.ret(sum_xyz)\n",
    "\n",
    "        return func"
   ]
  },
  {
   "cell_type": "code",
   "execution_count": null,
   "metadata": {},
   "outputs": [],
   "source": [
    "# Assuming lambda_state_type is a structure type holding all captured variables\n",
    "lambda_state_type = ir.LiteralStructType([int_type, int_type, int_type])  # Modify based on depth\n"
   ]
  },
  {
   "cell_type": "code",
   "execution_count": null,
   "metadata": {},
   "outputs": [],
   "source": [
    "# Assume AST for curried function (simplified)\n",
    "class Function:\n",
    "    def __init__(self, arg_name, body, arg_index):\n",
    "        self.arg_name = arg_name\n",
    "        self.body = body\n",
    "        self.arg_index = arg_index"
   ]
  },
  {
   "cell_type": "code",
   "execution_count": null,
   "metadata": {},
   "outputs": [],
   "source": [
    "# Simulated AST for a curried function λx.λy.λz.((x + y) + z)\n",
    "curried_ast = Function(\"x\", Function(\"y\", Function(\"z\", \"((x + y) + z)\", 2), 1), 0)\n",
    "\n",
    "# Create the outermost function and recursively generate IR\n",
    "curried_function_ir = create_curried_function(curried_ast)\n",
    "\n",
    "# Print the generated LLVM IR\n",
    "print(module)"
   ]
  }
 ],
 "metadata": {
  "kernelspec": {
   "display_name": "venv",
   "language": "python",
   "name": "python3"
  },
  "language_info": {
   "codemirror_mode": {
    "name": "ipython",
    "version": 3
   },
   "file_extension": ".py",
   "mimetype": "text/x-python",
   "name": "python",
   "nbconvert_exporter": "python",
   "pygments_lexer": "ipython3",
   "version": "3.12.5"
  }
 },
 "nbformat": 4,
 "nbformat_minor": 2
}
